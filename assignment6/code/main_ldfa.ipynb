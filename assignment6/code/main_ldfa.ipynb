{
 "cells": [
  {
   "cell_type": "code",
   "execution_count": 1,
   "metadata": {},
   "outputs": [],
   "source": [
    "# Import proper library\n",
    "import sys\n",
    "import numpy as np\n",
    "import scipy as sp\n",
    "from ldfa import LDFA\n",
    "import matplotlib.pyplot as plt\n",
    "\n",
    "%load_ext autoreload"
   ]
  },
  {
   "cell_type": "code",
   "execution_count": 2,
   "metadata": {
    "collapsed": true
   },
   "outputs": [],
   "source": [
    "# Data preprocessing\n",
    "\n",
    "# Iris data\n",
    "X_iris = np.genfromtxt('./data/iris.data', delimiter=',', usecols=(0,1,2,3), dtype=float)\n",
    "y_iris = np.genfromtxt('./data/iris.data', delimiter=',', usecols=(4), dtype=str)\n",
    "y_iris[y_iris=='Iris-setosa'] = 1\n",
    "y_iris[y_iris=='Iris-versicolor'] = 2\n",
    "y_iris[y_iris=='Iris-virginica'] = 3\n",
    "y_iris = y_iris.astype(int)\n",
    "\n",
    "# Wine data\n",
    "X_wine = np.genfromtxt('./data/wine.data', delimiter=',', usecols=(1,2,3,4,5,6,7,8,9,10,11,12,13), dtype=float)\n",
    "y_wine = np.genfromtxt('./data/wine.data', delimiter=',', usecols=(0), dtype=int)\n",
    "\n",
    "# Classes\n",
    "classes = [1,2,3]"
   ]
  },
  {
   "cell_type": "code",
   "execution_count": 16,
   "metadata": {},
   "outputs": [],
   "source": [
    "%autoreload\n",
    "# LDFA\n",
    "\n",
    "# Initiate fld instances for each data set\n",
    "ldfa_iris = LDFA(X_iris, y_iris, classes)\n",
    "ldfa_wine = LDFA(X_wine, y_wine, classes)\n",
    "\n",
    "# Train each intance\n",
    "ldfa_iris.train()\n",
    "ldfa_wine.train()"
   ]
  },
  {
   "cell_type": "code",
   "execution_count": 17,
   "metadata": {},
   "outputs": [
    {
     "name": "stdout",
     "output_type": "stream",
     "text": [
      "In iris, k is 10 and averaged accuracy is 0.980000\n",
      "In iris, k is 1 and averaged accuracy is 0.966667\n",
      "In iris, k is 2 and averaged accuracy is 0.960000\n",
      "In iris, k is 3 and averaged accuracy is 0.966667\n",
      "In iris, k is 5 and averaged accuracy is 0.966667\n"
     ]
    }
   ],
   "source": [
    "%autoreload\n",
    "# Iris performance test\n",
    "\n",
    "# k-NN hyperparameter\n",
    "k_list = {1: [], 2: [], 3: [], 5: [], 10: []}\n",
    "\n",
    "# v-fold validation\n",
    "v = 5\n",
    "N = X_iris.shape[0]\n",
    "step_size = int(N/v)\n",
    "v_indices = np.random.permutation(np.arange(N))\n",
    "\n",
    "for i in range(v):\n",
    "    low = i*step_size\n",
    "    high = (i+1)*step_size\n",
    "    v_index = v_indices[low:high]\n",
    "    \n",
    "    # Data set separation\n",
    "    X_iris_val = X_iris[v_index]\n",
    "    X_iris_train = np.delete(X_iris, v_index, axis=0)\n",
    "    y_iris_val = y_iris[v_index]\n",
    "    y_iris_train = np.delete(y_iris, v_index, axis=0)\n",
    "    \n",
    "    # LDFA on training set\n",
    "    ldfa = LDFA(X_iris_train, y_iris_train, classes)\n",
    "    ldfa.train()\n",
    "    \n",
    "    # k-NN algorithm & Measure accuracy\n",
    "    # Transform the samples onto the new subspace\n",
    "    X_iris_val = np.matmul(X_iris_val, ldfa.W)\n",
    "    X_iris_train = np.matmul(X_iris_train, ldfa.W)\n",
    "    \n",
    "    # Calculate distance from val data to train data\n",
    "    num_val = X_iris_val.shape[0]\n",
    "    num_train = X_iris_train.shape[0]\n",
    "    x2 = np.sum(X_iris_val**2, axis=1).reshape((num_val, 1))\n",
    "    y2 = np.sum(X_iris_train**2, axis=1).reshape((1, num_train))\n",
    "    xy = X_iris_val.dot(X_iris_train.T)\n",
    "    dists = np.sqrt(x2+y2-2*xy)\n",
    "    \n",
    "    # Predict label for each k in k-NN\n",
    "    for k in k_list:\n",
    "        y_pred = np.zeros(num_val)\n",
    "        for i in range(num_val):\n",
    "            closest_x = list(np.argsort(dists[i,:]))[0:k] # k\n",
    "            closest_y = [y_iris_train[x] for x in closest_x]\n",
    "            y_pred[i] = np.argmax(np.bincount(np.array(closest_y)))\n",
    "        accuracy = np.sum(y_iris_val==y_pred) / num_val\n",
    "        k_list[k].append(accuracy)\n",
    "    \n",
    "# Print accuracy for each k\n",
    "for k in k_list:\n",
    "    print('In iris, k is %d and averaged accuracy is %f' %(k, sum(k_list[k])/float(len(k_list[k]))))\n"
   ]
  },
  {
   "cell_type": "code",
   "execution_count": 18,
   "metadata": {},
   "outputs": [
    {
     "name": "stdout",
     "output_type": "stream",
     "text": [
      "In wine, k is 10 and averaged accuracy is 0.988571\n",
      "In wine, k is 1 and averaged accuracy is 0.982857\n",
      "In wine, k is 2 and averaged accuracy is 0.977143\n",
      "In wine, k is 3 and averaged accuracy is 0.988571\n",
      "In wine, k is 5 and averaged accuracy is 0.988571\n"
     ]
    }
   ],
   "source": [
    "%autoreload\n",
    "# Wine performance test\n",
    "\n",
    "# k-NN hyperparameter\n",
    "k_list = {1: [], 2: [], 3: [], 5: [], 10: []}\n",
    "\n",
    "# v-fold validation\n",
    "v = 5\n",
    "N = X_wine.shape[0]\n",
    "step_size = int(N/v)\n",
    "v_indices = np.random.permutation(np.arange(N))\n",
    "\n",
    "for i in range(v):\n",
    "    low = i*step_size\n",
    "    high = (i+1)*step_size\n",
    "    v_index = v_indices[low:high]\n",
    "    \n",
    "    # Data set separation\n",
    "    X_wine_val = X_wine[v_index]\n",
    "    X_wine_train = np.delete(X_wine, v_index, axis=0)\n",
    "    y_wine_val = y_wine[v_index]\n",
    "    y_wine_train = np.delete(y_wine, v_index, axis=0)\n",
    "    \n",
    "    # FLD on training set\n",
    "    ldfa = LDFA(X_wine_train, y_wine_train, classes)\n",
    "    ldfa.train()\n",
    "    \n",
    "    # k-NN algorithm & Measure accuracy\n",
    "    # Transform the samples onto the new subspace\n",
    "    X_wine_val = np.matmul(X_wine_val, ldfa.W)\n",
    "    X_wine_train = np.matmul(X_wine_train, ldfa.W)\n",
    "    \n",
    "    # Calculate distance from val data to train data\n",
    "    num_val = X_wine_val.shape[0]\n",
    "    num_train = X_wine_train.shape[0]\n",
    "    x2 = np.sum(X_wine_val**2, axis=1).reshape((num_val, 1))\n",
    "    y2 = np.sum(X_wine_train**2, axis=1).reshape((1, num_train))\n",
    "    xy = X_wine_val.dot(X_wine_train.T)\n",
    "    dists = np.sqrt(x2+y2-2*xy)\n",
    "    \n",
    "    # Predict label for each k in k-NN\n",
    "    for k in k_list:\n",
    "        y_pred = np.zeros(num_val)\n",
    "        for i in range(num_val):\n",
    "            closest_x = list(np.argsort(dists[i,:]))[0:k] # k\n",
    "            closest_y = [y_wine_train[x] for x in closest_x]\n",
    "            y_pred[i] = np.argmax(np.bincount(np.array(closest_y)))\n",
    "        accuracy = np.sum(y_wine_val==y_pred) / num_val\n",
    "        k_list[k].append(accuracy)\n",
    "    \n",
    "# Print accuracy for each k\n",
    "for k in k_list:\n",
    "    print('In wine, k is %d and averaged accuracy is %f' %(k, sum(k_list[k])/float(len(k_list[k]))))\n"
   ]
  },
  {
   "cell_type": "code",
   "execution_count": 21,
   "metadata": {},
   "outputs": [
    {
     "data": {
      "image/png": "[encoded data removed]",
      "text/plain": [
       "<matplotlib.figure.Figure at 0x1131e5588>"
      ]
     },
     "metadata": {},
     "output_type": "display_data"
    },
    {
     "data": {
      "image/png": "[encoded data removed]",
      "text/plain": [
       "<matplotlib.figure.Figure at 0x1131e5eb8>"
      ]
     },
     "metadata": {},
     "output_type": "display_data"
    }
   ],
   "source": [
    "# Plot some results\n",
    "# Sample FLD instance for plotting\n",
    "ldfa_iris = LDFA(X_iris, y_iris, classes)\n",
    "ldfa_wine = LDFA(X_wine, y_wine, classes)\n",
    "\n",
    "# Train each intance\n",
    "ldfa_iris.train()\n",
    "ldfa_wine.train()\n",
    "\n",
    "# Project each data set\n",
    "XW_iris = np.matmul(X_iris, ldfa_iris.W)\n",
    "XW_wine = np.matmul(X_wine, ldfa_wine.W)\n",
    "\n",
    "# Projected to subspace of iris data\n",
    "fig1 = plt.figure()\n",
    "for c in classes:\n",
    "    XW_temp = XW_iris[y_iris==c]\n",
    "    plt.plot(XW_temp[:,0], XW_temp[:,1], '.')\n",
    "plt.title('LFDA: Iris data projection onto discriminated subspace')\n",
    "plt.xlabel('LD1')\n",
    "plt.ylabel('LD2')\n",
    "\n",
    "# Projected to subspace of wine data\n",
    "fig2 = plt.figure()\n",
    "for c in classes:\n",
    "    XW_temp = XW_wine[y_wine==c]\n",
    "    plt.plot(XW_temp[:,0], XW_temp[:,1], '.')\n",
    "plt.title('LFDA: Wine data projection onto discriminated subspace')\n",
    "plt.xlabel('LD1')\n",
    "plt.ylabel('LD2')\n",
    "\n",
    "# Show figures\n",
    "plt.show()"
   ]
  },
  {
   "cell_type": "code",
   "execution_count": null,
   "metadata": {
    "collapsed": true
   },
   "outputs": [],
   "source": []
  }
 ],
 "metadata": {
  "kernelspec": {
   "display_name": "Python 3",
   "language": "python",
   "name": "python3"
  },
  "language_info": {
   "codemirror_mode": {
    "name": "ipython",
    "version": 3
   },
   "file_extension": ".py",
   "mimetype": "text/x-python",
   "name": "python",
   "nbconvert_exporter": "python",
   "pygments_lexer": "ipython3",
   "version": "3.5.2"
  }
 },
 "nbformat": 4,
 "nbformat_minor": 2
}
